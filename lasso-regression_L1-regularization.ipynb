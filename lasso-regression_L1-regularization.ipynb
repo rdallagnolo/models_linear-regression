{
 "cells": [
  {
   "cell_type": "code",
   "execution_count": 50,
   "id": "01ec7d37-ed3d-4cef-aa94-1700680dba19",
   "metadata": {},
   "outputs": [],
   "source": [
    "import numpy as np\n",
    "import pandas as pd\n",
    "import matplotlib.pyplot as plt\n",
    "import seaborn as sns"
   ]
  },
  {
   "cell_type": "code",
   "execution_count": 51,
   "id": "c1192d04-371d-4efc-bde4-84774ed46509",
   "metadata": {},
   "outputs": [],
   "source": [
    "df = pd.read_csv(\"Advertising.csv\")"
   ]
  },
  {
   "cell_type": "code",
   "execution_count": 52,
   "id": "aee88ee2-713c-47c6-b0a0-f9ca74fae775",
   "metadata": {},
   "outputs": [],
   "source": [
    "X = df.drop('sales',axis=1)\n",
    "y = df['sales']"
   ]
  },
  {
   "cell_type": "code",
   "execution_count": 53,
   "id": "3d0d7980-dd8f-4b65-afdb-37b4a8b6ad39",
   "metadata": {},
   "outputs": [],
   "source": [
    "from sklearn.preprocessing import PolynomialFeatures"
   ]
  },
  {
   "cell_type": "code",
   "execution_count": 54,
   "id": "86393d4c-9965-43f5-b75b-38f1c569a9e9",
   "metadata": {},
   "outputs": [],
   "source": [
    "polynomial_converter = PolynomialFeatures(degree=3,\n",
    "                                         include_bias=False)"
   ]
  },
  {
   "cell_type": "code",
   "execution_count": 55,
   "id": "3354dd69-584f-4958-982d-43e8be8e3ec1",
   "metadata": {},
   "outputs": [],
   "source": [
    "poly_features = polynomial_converter.fit_transform(X)"
   ]
  },
  {
   "cell_type": "code",
   "execution_count": 56,
   "id": "deadd6a8-c464-4f6d-9c57-48c70dc76b0e",
   "metadata": {},
   "outputs": [],
   "source": [
    "from sklearn.model_selection import train_test_split"
   ]
  },
  {
   "cell_type": "code",
   "execution_count": 57,
   "id": "8b0fe45e-ac8c-43fd-9b73-183f237af906",
   "metadata": {},
   "outputs": [],
   "source": [
    "X_train, X_test, y_train, y_test = train_test_split(poly_features, y, test_size=0.3, random_state=101)"
   ]
  },
  {
   "cell_type": "markdown",
   "id": "439f687b-6ba7-401f-8aec-dfca40f277bf",
   "metadata": {},
   "source": [
    "## Scaling the data"
   ]
  },
  {
   "cell_type": "code",
   "execution_count": 58,
   "id": "04dbd230-7a17-4801-aa3e-8391898282e3",
   "metadata": {},
   "outputs": [],
   "source": [
    "from sklearn.preprocessing import StandardScaler"
   ]
  },
  {
   "cell_type": "code",
   "execution_count": 59,
   "id": "f1584582-0359-43c0-9f18-eb6c5b905922",
   "metadata": {},
   "outputs": [],
   "source": [
    "scaler = StandardScaler()"
   ]
  },
  {
   "cell_type": "code",
   "execution_count": 60,
   "id": "094927c1-d164-4eb9-b36a-1511d5f04838",
   "metadata": {},
   "outputs": [
    {
     "data": {
      "text/plain": [
       "StandardScaler()"
      ]
     },
     "execution_count": 60,
     "metadata": {},
     "output_type": "execute_result"
    }
   ],
   "source": [
    "scaler.fit(X_train)"
   ]
  },
  {
   "cell_type": "code",
   "execution_count": 61,
   "id": "a0f1670e-5a89-4302-a0f3-61da5e36d8d5",
   "metadata": {},
   "outputs": [],
   "source": [
    "X_train =scaler.transform(X_train)"
   ]
  },
  {
   "cell_type": "code",
   "execution_count": 62,
   "id": "416c0851-e5c8-4dfc-84fc-4fbe41f7ca67",
   "metadata": {},
   "outputs": [],
   "source": [
    "X_test = scaler.transform(X_test)"
   ]
  },
  {
   "cell_type": "markdown",
   "id": "2f7ec571-3ce8-4b38-a8c5-15ede302616e",
   "metadata": {},
   "source": [
    "## Lasso Regression - L1 regularization"
   ]
  },
  {
   "cell_type": "code",
   "execution_count": 63,
   "id": "47d70ced-8479-4588-8899-f2da66280179",
   "metadata": {},
   "outputs": [],
   "source": [
    "from sklearn.linear_model import LassoCV"
   ]
  },
  {
   "cell_type": "code",
   "execution_count": 80,
   "id": "f8be4a15-6e70-4009-b5af-c057bac72ac9",
   "metadata": {},
   "outputs": [],
   "source": [
    "lasso_cv_model = LassoCV(eps=0.001,n_alphas=100,cv=5,max_iter=2000)"
   ]
  },
  {
   "cell_type": "code",
   "execution_count": 81,
   "id": "5519c600-a839-41b6-80f3-5e15a9009b70",
   "metadata": {},
   "outputs": [
    {
     "data": {
      "text/plain": [
       "LassoCV(cv=5, max_iter=2000)"
      ]
     },
     "execution_count": 81,
     "metadata": {},
     "output_type": "execute_result"
    }
   ],
   "source": [
    "lasso_cv_model.fit(X_train,y_train)"
   ]
  },
  {
   "cell_type": "code",
   "execution_count": 82,
   "id": "11294e78-1859-4abb-bab1-701b5b6292a5",
   "metadata": {},
   "outputs": [
    {
     "data": {
      "text/plain": [
       "0.004943070909225827"
      ]
     },
     "execution_count": 82,
     "metadata": {},
     "output_type": "execute_result"
    }
   ],
   "source": [
    "lasso_cv_model.alpha_"
   ]
  },
  {
   "cell_type": "code",
   "execution_count": 83,
   "id": "8cbdb3e2-1880-48b6-b597-57af8559e9d0",
   "metadata": {},
   "outputs": [],
   "source": [
    "test_prediction = lasso_cv_model.predict(X_test)"
   ]
  },
  {
   "cell_type": "code",
   "execution_count": 84,
   "id": "27b22776-7c3d-4268-9e36-5958f1b2ae4e",
   "metadata": {},
   "outputs": [],
   "source": [
    "from sklearn.metrics import mean_absolute_error, mean_squared_error"
   ]
  },
  {
   "cell_type": "code",
   "execution_count": 85,
   "id": "09bdd54b-ddbc-4b3f-9ad0-827db129795c",
   "metadata": {},
   "outputs": [],
   "source": [
    "MAE = mean_absolute_error(y_test,test_prediction)"
   ]
  },
  {
   "cell_type": "code",
   "execution_count": 86,
   "id": "0ce74049-9419-4448-ae4b-1d5cc804fd81",
   "metadata": {},
   "outputs": [
    {
     "data": {
      "text/plain": [
       "0.43350346185900757"
      ]
     },
     "execution_count": 86,
     "metadata": {},
     "output_type": "execute_result"
    }
   ],
   "source": [
    "MAE"
   ]
  },
  {
   "cell_type": "code",
   "execution_count": 87,
   "id": "ef5fc657-adff-46fe-99a7-ac59dfb1a656",
   "metadata": {},
   "outputs": [],
   "source": [
    "RMSE = np.sqrt(mean_squared_error(y_test,test_prediction))"
   ]
  },
  {
   "cell_type": "code",
   "execution_count": 88,
   "id": "f9ff6a72-f707-4ef7-816d-e31e492f9342",
   "metadata": {},
   "outputs": [
    {
     "data": {
      "text/plain": [
       "0.6063140748984036"
      ]
     },
     "execution_count": 88,
     "metadata": {},
     "output_type": "execute_result"
    }
   ],
   "source": [
    "RMSE"
   ]
  },
  {
   "cell_type": "code",
   "execution_count": 89,
   "id": "c70e3705-46b5-4eb4-bab3-e6f798d3e659",
   "metadata": {},
   "outputs": [
    {
     "data": {
      "text/plain": [
       "array([ 4.86023329,  0.12544598,  0.20746872, -4.99250395,  4.38026519,\n",
       "       -0.22977201, -0.        ,  0.07267717, -0.        ,  1.77780246,\n",
       "       -0.69614918, -0.        ,  0.12044132, -0.        , -0.        ,\n",
       "       -0.        ,  0.        ,  0.        , -0.        ])"
      ]
     },
     "execution_count": 89,
     "metadata": {},
     "output_type": "execute_result"
    }
   ],
   "source": [
    "lasso_cv_model.coef_"
   ]
  },
  {
   "cell_type": "code",
   "execution_count": null,
   "id": "b07fddc6-af6b-4c95-a486-614ac768a2e0",
   "metadata": {},
   "outputs": [],
   "source": []
  }
 ],
 "metadata": {
  "kernelspec": {
   "display_name": "Python 3",
   "language": "python",
   "name": "python3"
  },
  "language_info": {
   "codemirror_mode": {
    "name": "ipython",
    "version": 3
   },
   "file_extension": ".py",
   "mimetype": "text/x-python",
   "name": "python",
   "nbconvert_exporter": "python",
   "pygments_lexer": "ipython3",
   "version": "3.8.8"
  }
 },
 "nbformat": 4,
 "nbformat_minor": 5
}
